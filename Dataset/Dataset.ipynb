{
  "nbformat": 4,
  "nbformat_minor": 0,
  "metadata": {
    "colab": {
      "provenance": []
    },
    "kernelspec": {
      "name": "python3",
      "display_name": "Python 3"
    },
    "language_info": {
      "name": "python"
    }
  },
  "cells": [
    {
      "cell_type": "markdown",
      "source": [
        "#***DataSet***"
      ],
      "metadata": {
        "id": "TcRuZypUHIYi"
      }
    },
    {
      "cell_type": "code",
      "source": [
        "!pip install faker"
      ],
      "metadata": {
        "colab": {
          "base_uri": "https://localhost:8080/"
        },
        "id": "LY1dzI98d2kk",
        "outputId": "d928bcfa-c47e-46d5-d5ea-7bb140edd761"
      },
      "execution_count": 1,
      "outputs": [
        {
          "output_type": "stream",
          "name": "stdout",
          "text": [
            "Collecting faker\n",
            "  Downloading Faker-33.1.0-py3-none-any.whl.metadata (15 kB)\n",
            "Requirement already satisfied: python-dateutil>=2.4 in /usr/local/lib/python3.10/dist-packages (from faker) (2.8.2)\n",
            "Requirement already satisfied: typing-extensions in /usr/local/lib/python3.10/dist-packages (from faker) (4.12.2)\n",
            "Requirement already satisfied: six>=1.5 in /usr/local/lib/python3.10/dist-packages (from python-dateutil>=2.4->faker) (1.17.0)\n",
            "Downloading Faker-33.1.0-py3-none-any.whl (1.9 MB)\n",
            "\u001b[?25l   \u001b[90m━━━━━━━━━━━━━━━━━━━━━━━━━━━━━━━━━━━━━━━━\u001b[0m \u001b[32m0.0/1.9 MB\u001b[0m \u001b[31m?\u001b[0m eta \u001b[36m-:--:--\u001b[0m\r\u001b[2K   \u001b[90m━━━━━━━━━━━━━━━━━━━━━━━━━━━━━━━━━━━━━━━━\u001b[0m \u001b[32m1.9/1.9 MB\u001b[0m \u001b[31m60.5 MB/s\u001b[0m eta \u001b[36m0:00:00\u001b[0m\n",
            "\u001b[?25hInstalling collected packages: faker\n",
            "Successfully installed faker-33.1.0\n"
          ]
        }
      ]
    },
    {
      "cell_type": "code",
      "execution_count": 2,
      "metadata": {
        "id": "DovVFeyKdmnW"
      },
      "outputs": [],
      "source": [
        "from faker import Faker\n",
        "import random\n",
        "from datetime import datetime, timedelta\n",
        "import csv\n",
        "\n",
        "fake = Faker('en_IN')\n",
        "num_records = 1000\n",
        "data = []\n",
        "\n",
        "# Fixed pool for phone numbers\n",
        "calling_party_pool = [''.join([str(random.randint(7, 9)) + ''.join([str(random.randint(0, 9)) for _ in range(9)])]) for _ in range(50)]\n",
        "called_party_pool = calling_party_pool.copy()\n",
        "### called_party_pool = [''.join([str(random.randint(7, 9)) + ''.join([str(random.randint(0, 9)) for _ in range(9)])]) for _ in range(50)]\n",
        "\n",
        "# Mapping Phone Number to a fixed IMEI and IMSI\n",
        "phone_to_imei_imsi = {\n",
        "    phone: {\n",
        "        \"IMEI\": ''.join([str(random.randint(0, 9)) for _ in range(15)]),\n",
        "        \"IMSI\": ''.join([str(random.randint(0, 9)) for _ in range(15)])\n",
        "    }\n",
        "    for phone in calling_party_pool\n",
        "}\n",
        "\n",
        "# Generating Sample Call Records\n",
        "for _ in range(num_records):\n",
        "    calling_party = random.choice(calling_party_pool)\n",
        "    # Ensure calling party and called party are not the same\n",
        "    called_party = calling_party\n",
        "    while called_party == calling_party:\n",
        "        called_party = random.choice(called_party_pool)\n",
        "\n",
        "    imei = phone_to_imei_imsi[calling_party][\"IMEI\"]\n",
        "    imsi = phone_to_imei_imsi[calling_party][\"IMSI\"]\n",
        "    call_type = random.choice(['Voice In', 'Voice Out', 'SMS In', 'SMS Out'])\n",
        "\n",
        "    call_date = fake.date_this_year()\n",
        "    start_time = fake.time()\n",
        "    # Call duration (random for \"Voice\" types; 0 for \"SMS\" types)\n",
        "    if 'Voice' in call_type:\n",
        "        duration = random.randint(0, 10800)  # 0 second to 3 hours\n",
        "    else:\n",
        "        duration = 0\n",
        "\n",
        "    start_time_obj = datetime.strptime(start_time, \"%H:%M:%S\")\n",
        "    end_time_obj = start_time_obj + timedelta(seconds=duration)\n",
        "    start_time = start_time_obj.strftime(\"%H:%M:%S\")\n",
        "    end_time = end_time_obj.strftime(\"%H:%M:%S\") if duration > 0 else \"N/A\"\n",
        "\n",
        "    data.append({\n",
        "        'Calling Party': calling_party,\n",
        "        'Called Party': called_party,\n",
        "        'IMEI': imei,\n",
        "        'IMSI': imsi,\n",
        "        'Call Date': call_date,\n",
        "        'Call Type': call_type,\n",
        "        'Start Time': start_time,\n",
        "        'End Time': end_time,\n",
        "        'Duration (seconds)': duration\n",
        "    })"
      ]
    },
    {
      "cell_type": "code",
      "source": [
        "csv_file = 'call_records.csv'\n",
        "csv_headers = ['Calling Party', 'Called Party', 'IMEI', 'IMSI', 'Call Date', 'Call Type', 'Start Time', 'End Time', 'Duration (seconds)']\n",
        "\n",
        "with open(csv_file, mode='w', newline='', encoding='utf-8') as file:\n",
        "    writer = csv.DictWriter(file, fieldnames=csv_headers)\n",
        "    writer.writeheader()\n",
        "    writer.writerows(data)\n",
        "\n",
        "print(f\"Data successfully exported to {csv_file}\")"
      ],
      "metadata": {
        "colab": {
          "base_uri": "https://localhost:8080/"
        },
        "id": "4GRWHk0oG6n4",
        "outputId": "419834e4-9c35-4ab7-93b0-6acdae848781"
      },
      "execution_count": 3,
      "outputs": [
        {
          "output_type": "stream",
          "name": "stdout",
          "text": [
            "Data successfully exported to call_records.csv\n"
          ]
        }
      ]
    }
  ]
}